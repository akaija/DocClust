{
 "cells": [
  {
   "cell_type": "markdown",
   "metadata": {
    "deletable": true,
    "editable": true
   },
   "source": [
    "# DELPHI - document clustering console"
   ]
  },
  {
   "cell_type": "code",
   "execution_count": 1,
   "metadata": {
    "collapsed": false,
    "deletable": true,
    "editable": true
   },
   "outputs": [
    {
     "data": {
      "text/html": [
       "<script>\n",
       "code_show=true; \n",
       "function code_toggle() {\n",
       " if (code_show){\n",
       " $('div.input').hide();\n",
       " } else {\n",
       " $('div.input').show();\n",
       " }\n",
       " code_show = !code_show\n",
       "} \n",
       "$( document ).ready(code_toggle);\n",
       "</script>\n",
       "<form action=\"javascript:code_toggle()\"><input type=\"submit\" value=\"Click here to toggle on/off the raw code.\"></form>"
      ],
      "text/plain": [
       "<IPython.core.display.HTML object>"
      ]
     },
     "execution_count": 1,
     "metadata": {},
     "output_type": "execute_result"
    }
   ],
   "source": [
    "from IPython.display import HTML\n",
    "\n",
    "HTML('''<script>\n",
    "code_show=true; \n",
    "function code_toggle() {\n",
    " if (code_show){\n",
    " $('div.input').hide();\n",
    " } else {\n",
    " $('div.input').show();\n",
    " }\n",
    " code_show = !code_show\n",
    "} \n",
    "$( document ).ready(code_toggle);\n",
    "</script>\n",
    "<form action=\"javascript:code_toggle()\"><input type=\"submit\" value=\"Click here to toggle on/off the raw code.\"></form>''')"
   ]
  },
  {
   "cell_type": "code",
   "execution_count": 2,
   "metadata": {
    "collapsed": false,
    "deletable": true,
    "editable": true
   },
   "outputs": [
    {
     "data": {
      "application/vnd.jupyter.widget-view+json": {
       "model_id": "88f1237cde1c4852893d536e44b1aee6"
      }
     },
     "metadata": {},
     "output_type": "display_data"
    }
   ],
   "source": [
    "import nltk\n",
    "from ipywidgets import Dropdown, HTML, VBox, Layout\n",
    "from IPython.display import display, clear_output\n",
    "from nltk.stem.snowball import SnowballStemmer\n",
    "\n",
    "stemmer = SnowballStemmer('english')\n",
    "\n",
    "languages_dropdown = Dropdown(\n",
    "    options=['english', 'french', 'spanish', 'german', 'russian'],\n",
    "    value='russian',\n",
    "    description='Corpus language : ',\n",
    ")\n",
    "\n",
    "def on_trait_change(change):\n",
    "    clear_output()\n",
    "    stemmer = SnowballStemmer(change['new'])\n",
    "    stopwords = nltk.corpus.stopwords.words(change['new'])\n",
    "    \n",
    "    #show_stopwords = HTML(\n",
    "    #    value = '\\n'.join(str(e) for e in stopwords),\n",
    "    #    disabled=True,\n",
    "    #    description='Stopwords : '\n",
    "    #)\n",
    "    #\n",
    "    #text_box = VBox([show_stopwords], layout=Layout(height='100px', overflow_y='auto'))\n",
    "    #display(text_box)\n",
    "    print('Stopwords :\\n{}'.format(stopwords))\n",
    "\n",
    "languages_dropdown.observe(on_trait_change, names='value')\n",
    "display(languages_dropdown)"
   ]
  },
  {
   "cell_type": "code",
   "execution_count": 3,
   "metadata": {
    "collapsed": false,
    "deletable": true,
    "editable": true
   },
   "outputs": [
    {
     "data": {
      "application/vnd.jupyter.widget-view+json": {
       "model_id": "86c70a15f41c43f28f88cd7a918f586e"
      }
     },
     "metadata": {},
     "output_type": "display_data"
    }
   ],
   "source": [
    "from ipywidgets import Button\n",
    "\n",
    "from data import data\n",
    "\n",
    "titles = []\n",
    "abstracts = []\n",
    "\n",
    "def click(b):\n",
    "    from data import data\n",
    "\n",
    "    for record in data:\n",
    "        titles.append(record['title'])\n",
    "        abstracts.append(record['abstract'])\n",
    "        \n",
    "    print('Loaded {} documents.'.format(len(titles)))\n",
    "    \n",
    "button = Button(description='Import documents')\n",
    "button.on_click(click)\n",
    "\n",
    "button"
   ]
  },
  {
   "cell_type": "markdown",
   "metadata": {
    "deletable": true,
    "editable": true
   },
   "source": [
    "## K-means clustering with tf-idf weighting"
   ]
  },
  {
   "cell_type": "code",
   "execution_count": 4,
   "metadata": {
    "collapsed": false,
    "deletable": true,
    "editable": true
   },
   "outputs": [
    {
     "data": {
      "application/vnd.jupyter.widget-view+json": {
       "model_id": "d1bbd209bed04d3f89f13a1a787dc4ba"
      }
     },
     "metadata": {},
     "output_type": "display_data"
    }
   ],
   "source": [
    "from __future__ import print_function\n",
    "\n",
    "from ipywidgets import IntSlider, HBox\n",
    "from sklearn.cluster import KMeans\n",
    "\n",
    "from main import cluster_abstracts\n",
    "\n",
    "num_clusters_slider = IntSlider(\n",
    "    value=5,\n",
    "    min=0,\n",
    "    max=10,\n",
    "    step=1,\n",
    "    description='Number of clusters : '\n",
    ")\n",
    "\n",
    "cluster_button = Button(description='Cluster corpus')\n",
    "\n",
    "def click(b):\n",
    "    clear_output()\n",
    "    \n",
    "    km, totalvocab_stemmed, totalvocab_tokenized, vocab_frame, tfidf_matrix, terms, frame = cluster_abstracts(titles, abstracts, num_clusters_slider.value)\n",
    "    \n",
    "    print('Tokenized vocabulary\\n{}'.format([e for e in totalvocab_tokenized]))\n",
    "    print('Stemmed vocabulary\\n{}'.format([e for e in totalvocab_stemmed]))\n",
    "    \n",
    "    #show_stems = HTML(\n",
    "    #    value = '\\n'.join(str(e) for e in totalvocab_stemmed),\n",
    "    #    disabled=True,\n",
    "    #    description='Stemmed vocabulary : '\n",
    "    #)\n",
    "    \n",
    "    #stems_box = VBox([show_stems], layout=Layout(height='100px', overflow_y='auto'))\n",
    "    #display(stems_box)\n",
    "    \n",
    "    #show_tokens = HTML(\n",
    "    #    value = '\\n'.join(str(e) for e in totalvocab_tokenized),\n",
    "    #    disabled=True,\n",
    "    #    description='Tokenized vocabulary : '\n",
    "    #)\n",
    "    \n",
    "    #tokens_box = VBox([show_tokens], layout=Layout(height='100px', overflow_y='auto'))\n",
    "    #display(tokens_box)\n",
    "    \n",
    "    \n",
    "#   print('Top terms per cluster:\\n')\n",
    "    order_centroids = km.cluster_centers_.argsort()[:, ::-1]\n",
    "    \n",
    "    \n",
    "    clusters_dropdown = Dropdown(\n",
    "        options=[e for e in range(num_clusters_slider.value)],\n",
    "        value=0,\n",
    "        description='Cluster : ',\n",
    "    )\n",
    "\n",
    "    def on_trait_change(change):\n",
    "        clear_output()\n",
    "        cluster_terms = order_centroids[change['new']]\n",
    "        print([terms[e] for e in cluster_terms])\n",
    "        #show_cluster_terms = HTML(\n",
    "        #    value = '\\n'.join(str(\n",
    "        #            terms[e]\n",
    "        #            #vocab_frame.ix[terms[e].split(' ')].values.tolist()[0][0].encode('utf-8', 'ignore')\n",
    "        #        ) for e in cluster_terms),\n",
    "        #    disabled=True,\n",
    "        #    description='Keywords : '\n",
    "        #)\n",
    "        \n",
    "        #terms_box = VBox([show_cluster_terms], layout=Layout(height='100px', overflow_y='auto'))\n",
    "        #display(terms_box)\n",
    "    \n",
    "    clusters_dropdown.observe(on_trait_change, names='value')\n",
    "    display(clusters_dropdown)\n",
    "    \n",
    "     \n",
    "cluster_button.on_click(click)\n",
    "\n",
    "HBox([num_clusters_slider, cluster_button])\n"
   ]
  },
  {
   "cell_type": "markdown",
   "metadata": {
    "collapsed": false,
    "deletable": true,
    "editable": true
   },
   "source": [
    "## Latent Dirichlet allocation"
   ]
  },
  {
   "cell_type": "code",
   "execution_count": 5,
   "metadata": {
    "collapsed": false,
    "deletable": true,
    "editable": true
   },
   "outputs": [
    {
     "data": {
      "application/vnd.jupyter.widget-view+json": {
       "model_id": "1dd65d6157314ac2a1fb09ad46e4d5b5"
      }
     },
     "metadata": {},
     "output_type": "display_data"
    }
   ],
   "source": [
    "import string\n",
    "\n",
    "import numpy as np\n",
    "from nltk.tag import pos_tag\n",
    "from gensim import corpora, models, similarities\n",
    "from ipywidgets import Dropdown, HTML, VBox, Layout\n",
    "from ipywidgets import IntSlider, HBox\n",
    "\n",
    "from main import tokenize_and_stem\n",
    "\n",
    "def strip_proppers(text):\n",
    "    tokens = [word for sent in nltk.sent_tokenize(text) for word in nltk.word_tokenize(sent) if word.islower()]\n",
    "    return \"\".join([\" \"+i if not i.startswith(\"'\") and i not in string.punctuation else i for i in tokens]).strip()\n",
    "\n",
    "def strip_proppers_POS(text):\n",
    "    tagged = pos_tag(text.split())\n",
    "    non_propernouns = [word for word,pos in tagged if pos != 'NNP' and pos != 'NNPS']\n",
    "    return non_propernouns\n",
    "\n",
    "num_clusters_slider = IntSlider(\n",
    "    value=5,\n",
    "    min=0,\n",
    "    max=10,\n",
    "    step=1,\n",
    "    description='Number of clusters : '\n",
    ")\n",
    "\n",
    "num_topics_slider = IntSlider(\n",
    "    value=5,\n",
    "    min=0,\n",
    "    max=10,\n",
    "    step=1,\n",
    "    description='Number of topics : '\n",
    ")\n",
    "\n",
    "lda_button = Button(description='Run LDA')\n",
    "\n",
    "stopwords = nltk.corpus.stopwords.words('english')\n",
    "\n",
    "def click(b):\n",
    "    preprocess = [strip_proppers(abstract) for abstract in abstracts]\n",
    "    tokenized_text = [tokenize_and_stem(text) for text in preprocess]\n",
    "    texts = [[word for word in text if word not in stopwords] for text in tokenized_text]\n",
    "\n",
    "    dictionary = corpora.Dictionary(texts)\n",
    "    dictionary.filter_extremes(no_below=1, no_above=0.8)\n",
    "    corpus = [dictionary.doc2bow(text) for text in texts]\n",
    "\n",
    "    lda = models.LdaModel(corpus, num_topics=num_topics_slider.value,\n",
    "                         id2word=dictionary,\n",
    "                         update_every=5,\n",
    "                         chunksize=10000,\n",
    "                         passes=100)\n",
    "\n",
    "    topics_dropdown = Dropdown(\n",
    "        options=[e for e in range(num_topics_slider.value)],\n",
    "        value=0,\n",
    "        description='Cluster : ',\n",
    "    )\n",
    "\n",
    "    def on_trait_change(change):\n",
    "        clear_output()\n",
    "        \n",
    "        string = lda.show_topics()[change['new']][1]\n",
    "        \n",
    "        print('Weighted topics :\\n{}'.format(string))\n",
    "        #show_keywords = HTML(\n",
    "        #    value = string,\n",
    "        #    disabled=True,\n",
    "        #    description='Weight, keyword : '\n",
    "        #)\n",
    "    \n",
    "        #terms_box = VBox([show_keywords], layout=Layout(height='100px', overflow_y='auto'))\n",
    "        #display(terms_box)\n",
    "    topics_dropdown.observe(on_trait_change, names='value')\n",
    "    display(topics_dropdown)\n",
    "\n",
    "lda_button.on_click(click)\n",
    "\n",
    "HBox([num_topics_slider, lda_button])"
   ]
  },
  {
   "cell_type": "code",
   "execution_count": 6,
   "metadata": {
    "collapsed": false,
    "deletable": true,
    "editable": true
   },
   "outputs": [
    {
     "data": {
      "application/vnd.jupyter.widget-view+json": {
       "model_id": "fa4352023e4e43069050e4f918051381"
      }
     },
     "metadata": {},
     "output_type": "display_data"
    }
   ],
   "source": [
    "from ipywidgets import Textarea, Button, HBox\n",
    "\n",
    "remove_terms_textarea = Textarea(\n",
    "    placeholder='term1, term2, term3, ...',\n",
    "    description='Terms :'\n",
    ")\n",
    "\n",
    "remove_button = Button(\n",
    "    description='Remove from corpus'\n",
    ")\n",
    "\n",
    "def click(b):\n",
    "    global abstracts\n",
    "    for term in remove_terms_textarea.value.split(\", \"):\n",
    "        abstracts = [abstract.replace(term, \"\") for abstract in abstracts]\n",
    "\n",
    "remove_button.on_click(click)\n",
    "        \n",
    "HBox([remove_terms_textarea, remove_button])"
   ]
  },
  {
   "cell_type": "code",
   "execution_count": null,
   "metadata": {
    "collapsed": true,
    "deletable": true,
    "editable": true
   },
   "outputs": [],
   "source": []
  }
 ],
 "metadata": {
  "celltoolbar": "Raw Cell Format",
  "kernelspec": {
   "display_name": "Python 3",
   "language": "python",
   "name": "python3"
  },
  "language_info": {
   "codemirror_mode": {
    "name": "ipython",
    "version": 3
   },
   "file_extension": ".py",
   "mimetype": "text/x-python",
   "name": "python",
   "nbconvert_exporter": "python",
   "pygments_lexer": "ipython3",
   "version": "3.5.3"
  }
 },
 "nbformat": 4,
 "nbformat_minor": 2
}
